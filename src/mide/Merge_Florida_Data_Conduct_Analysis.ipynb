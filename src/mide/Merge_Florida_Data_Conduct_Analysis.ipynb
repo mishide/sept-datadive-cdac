{
 "cells": [
  {
   "cell_type": "markdown",
   "metadata": {},
   "source": [
    "### Michelle Ide, GitHub mishide\n",
    "### DataKind project \"Broadband Access\" Sept 18 2021\n",
    "#### This notebook imports the Florida data and conducts analysis on the gaps or contradictions using the socio-economic variables in the ACS data to understand why these exist."
   ]
  },
  {
   "cell_type": "code",
   "execution_count": 1,
   "metadata": {},
   "outputs": [],
   "source": [
    "# import libraries need for notebook\n",
    "\n",
    "import pandas as pd\n",
    "import numpy as np\n",
    "from numpy.random import seed\n",
    "import matplotlib.pyplot as plt\n",
    "from scipy.stats import t, sem\n",
    "import seaborn as sns"
   ]
  },
  {
   "cell_type": "code",
   "execution_count": 2,
   "metadata": {},
   "outputs": [],
   "source": [
    "# import Florida data\n",
    "\n",
    "ookla = pd.read_csv('../data/ookla_combined_fl.csv')\n",
    "fcc = pd.read_csv('../data/fcc_477_census_tract_FL.csv')\n",
    "acs = pd.read_csv('../data/acs_2019_FL.csv')"
   ]
  },
  {
   "cell_type": "markdown",
   "metadata": {},
   "source": [
    "#### Look at the data"
   ]
  },
  {
   "cell_type": "code",
   "execution_count": 3,
   "metadata": {},
   "outputs": [
    {
     "name": "stdout",
     "output_type": "stream",
     "text": [
      "           quadkey  avg_d_kbps  avg_u_kbps  avg_lat_ms  tests  devices   type  \\\n",
      "0  320201332021332       90726       28194          35      3        2  fixed   \n",
      "1  320231100220123      159542       31827          14     60       10  fixed   \n",
      "2  320231102200112      211000       52752          14     37       18  fixed   \n",
      "3  320231223033003      115365       20575          15      7        5  fixed   \n",
      "4  320212301232330      217592       48549           9     21        8  fixed   \n",
      "\n",
      "  quarter  year  STATEFP  COUNTYFP  TRACTCE              AFFGEOID  \\\n",
      "0      Q1  2021       12        37   970302  1400000US12037970302   \n",
      "1      Q1  2021       12        99      905  1400000US12099000905   \n",
      "2      Q1  2021       12        99     5916  1400000US12099005916   \n",
      "3      Q1  2021       12        87   971200  1400000US12087971200   \n",
      "4      Q1  2021       12        57    11906  1400000US12057011906   \n",
      "\n",
      "         GEOID     NAME LSAD      ALAND    AWATER  \\\n",
      "0  12037970302  9703.02   CT  126051207  58611667   \n",
      "1  12099000905     9.05   CT    4601460    244009   \n",
      "2  12099005916    59.16   CT    3155445         0   \n",
      "3  12087971200  9712.00   CT    3954857   3876328   \n",
      "4  12057011906   119.06   CT    1560086      4190   \n",
      "\n",
      "                                                tile  \n",
      "0  list(c(-85.001220703125, -84.9957275390625, -8...  \n",
      "1  list(c(-80.1287841796875, -80.123291015625, -8...  \n",
      "2  list(c(-80.123291015625, -80.1177978515625, -8...  \n",
      "3  list(c(-81.0736083984375, -81.068115234375, -8...  \n",
      "4  list(c(-82.496337890625, -82.4908447265625, -8...  \n"
     ]
    }
   ],
   "source": [
    "print(ookla.head())"
   ]
  },
  {
   "cell_type": "code",
   "execution_count": 4,
   "metadata": {},
   "outputs": [
    {
     "name": "stdout",
     "output_type": "stream",
     "text": [
      "         tract      max_dn      max_up      dn10     dn100     dn250  \\\n",
      "0  12001000200  979.959184   53.995265  1.925170  1.000000  1.000000   \n",
      "1  12001000301  990.015000   34.653840  1.560000  1.060000  1.000000   \n",
      "2  12001000302  989.663158   44.797558  1.178947  1.010526  1.000000   \n",
      "3  12001000400  947.382979   33.170979  1.329787  0.946809  0.946809   \n",
      "4  12001000500  967.066914  392.588372  2.130112  1.405204  1.364312   \n",
      "\n",
      "   fiber_100u  state  \n",
      "0    0.020408     12  \n",
      "1    0.000000     12  \n",
      "2    0.010526     12  \n",
      "3    0.000000     12  \n",
      "4    0.371747     12  \n"
     ]
    }
   ],
   "source": [
    "print(fcc.head())"
   ]
  },
  {
   "cell_type": "code",
   "execution_count": 5,
   "metadata": {},
   "outputs": [
    {
     "name": "stdout",
     "output_type": "stream",
     "text": [
      "   state  county  tract        geoid  f_broadband  f_computer   f_ba  f_black  \\\n",
      "0     12       1    200  12001000200        0.816       0.968  0.279    0.184   \n",
      "1     12       1    301  12001000301        0.723       0.879  0.450    0.429   \n",
      "2     12       1    302  12001000302        0.818       0.885  0.315    0.223   \n",
      "3     12       1    400  12001000400        0.786       0.849  0.245    0.560   \n",
      "4     12       1    500  12001000500        0.852       0.942  0.557    0.199   \n",
      "\n",
      "   f_hispanic  log_mhi  ...  nhh_computer_no_internet  nhh_no_computer  \\\n",
      "0       0.130     9.79  ...                       392               82   \n",
      "1       0.069    10.40  ...                       285              211   \n",
      "2       0.241    10.40  ...                        72              125   \n",
      "3       0.078    10.59  ...                       152              324   \n",
      "4       0.094    10.61  ...                       227              146   \n",
      "\n",
      "   den_age  n_children  n_children_computer  n_children_computer_and_dialup  \\\n",
      "0     6444         238                  226                               0   \n",
      "1     4397         531                  476                               0   \n",
      "2     2288         377                  365                               0   \n",
      "3     6239        2005                 1736                               0   \n",
      "4     4836         602                  602                               0   \n",
      "\n",
      "   n_children_computer_and_broadband  n_children_computer_no_internet  \\\n",
      "0                                207                               19   \n",
      "1                                365                              111   \n",
      "2                                348                               17   \n",
      "3                               1680                               56   \n",
      "4                                382                              220   \n",
      "\n",
      "   n_children_no_computer  state_lkp  \n",
      "0                      12         12  \n",
      "1                      55         12  \n",
      "2                      12         12  \n",
      "3                     269         12  \n",
      "4                       0         12  \n",
      "\n",
      "[5 rows x 43 columns]\n"
     ]
    }
   ],
   "source": [
    "print(acs.head())"
   ]
  },
  {
   "cell_type": "markdown",
   "metadata": {},
   "source": [
    "#### Merge the dataframes together on GEOID"
   ]
  },
  {
   "cell_type": "code",
   "execution_count": 6,
   "metadata": {},
   "outputs": [],
   "source": [
    "fcc = fcc.rename(columns = {'tract':'GEOID'})\n",
    "acs = acs.rename(columns = {'geoid':'GEOID'})"
   ]
  },
  {
   "cell_type": "code",
   "execution_count": 7,
   "metadata": {},
   "outputs": [],
   "source": [
    "from functools import reduce\n",
    "dfs = [fcc, ookla, acs]\n",
    "df_final = reduce(lambda left,right: pd.merge(left,right,on='GEOID'), dfs)"
   ]
  },
  {
   "cell_type": "code",
   "execution_count": 8,
   "metadata": {},
   "outputs": [],
   "source": [
    "df_final = df_final.drop_duplicates()"
   ]
  },
  {
   "cell_type": "markdown",
   "metadata": {},
   "source": [
    "#### Look at the results and clean for specific analysis, remove columns not needed for this analysis"
   ]
  },
  {
   "cell_type": "code",
   "execution_count": 9,
   "metadata": {},
   "outputs": [
    {
     "data": {
      "text/plain": [
       "Index(['GEOID', 'max_dn', 'max_up', 'dn10', 'dn100', 'dn250', 'fiber_100u',\n",
       "       'state_x', 'quadkey', 'avg_d_kbps', 'avg_u_kbps', 'avg_lat_ms', 'tests',\n",
       "       'devices', 'type', 'quarter', 'year', 'STATEFP', 'COUNTYFP', 'TRACTCE',\n",
       "       'AFFGEOID', 'NAME', 'LSAD', 'ALAND', 'AWATER', 'tile', 'state_y',\n",
       "       'county', 'tract', 'f_broadband', 'f_computer', 'f_ba', 'f_black',\n",
       "       'f_hispanic', 'log_mhi', 'mhi', 'population', 'households', 'broadband',\n",
       "       'computer', 'black', 'hispanic', 'mhi.1', 'ba', 'den_computers',\n",
       "       'n_computer', 'n_broadband', 'den_black', 'n_black', 'den_hispanic',\n",
       "       'n_hispanic', 'den_ba', 'n_ba', 'nhh_computer', 'nhh_broadband',\n",
       "       'nhh_computer_any_internet', 'nhh_computer_and_dialup',\n",
       "       'nhh_computer_and_broadband', 'nhh_computer_no_internet',\n",
       "       'nhh_no_computer', 'den_age', 'n_children', 'n_children_computer',\n",
       "       'n_children_computer_and_dialup', 'n_children_computer_and_broadband',\n",
       "       'n_children_computer_no_internet', 'n_children_no_computer',\n",
       "       'state_lkp'],\n",
       "      dtype='object')"
      ]
     },
     "execution_count": 9,
     "metadata": {},
     "output_type": "execute_result"
    }
   ],
   "source": [
    "df_final.columns"
   ]
  },
  {
   "cell_type": "markdown",
   "metadata": {},
   "source": [
    "#### Drop initial unwanted columns"
   ]
  },
  {
   "cell_type": "code",
   "execution_count": 10,
   "metadata": {},
   "outputs": [],
   "source": [
    "geo_df = df_final[['GEOID','f_black','f_hispanic','f_ba']]\n",
    "tract_df = df_final[['TRACTCE','f_black','f_hispanic','f_ba']]"
   ]
  },
  {
   "cell_type": "code",
   "execution_count": 11,
   "metadata": {},
   "outputs": [],
   "source": [
    "geo_df = geo_df.drop_duplicates()"
   ]
  },
  {
   "cell_type": "code",
   "execution_count": 12,
   "metadata": {},
   "outputs": [
    {
     "data": {
      "text/html": [
       "<div>\n",
       "<style scoped>\n",
       "    .dataframe tbody tr th:only-of-type {\n",
       "        vertical-align: middle;\n",
       "    }\n",
       "\n",
       "    .dataframe tbody tr th {\n",
       "        vertical-align: top;\n",
       "    }\n",
       "\n",
       "    .dataframe thead th {\n",
       "        text-align: right;\n",
       "    }\n",
       "</style>\n",
       "<table border=\"1\" class=\"dataframe\">\n",
       "  <thead>\n",
       "    <tr style=\"text-align: right;\">\n",
       "      <th></th>\n",
       "      <th>GEOID</th>\n",
       "      <th>f_black</th>\n",
       "      <th>f_hispanic</th>\n",
       "      <th>f_ba</th>\n",
       "    </tr>\n",
       "  </thead>\n",
       "  <tbody>\n",
       "    <tr>\n",
       "      <th>0</th>\n",
       "      <td>12001000200</td>\n",
       "      <td>0.184</td>\n",
       "      <td>0.130</td>\n",
       "      <td>0.279</td>\n",
       "    </tr>\n",
       "    <tr>\n",
       "      <th>33</th>\n",
       "      <td>12001000301</td>\n",
       "      <td>0.429</td>\n",
       "      <td>0.069</td>\n",
       "      <td>0.450</td>\n",
       "    </tr>\n",
       "    <tr>\n",
       "      <th>66</th>\n",
       "      <td>12001000302</td>\n",
       "      <td>0.223</td>\n",
       "      <td>0.241</td>\n",
       "      <td>0.315</td>\n",
       "    </tr>\n",
       "    <tr>\n",
       "      <th>95</th>\n",
       "      <td>12001000400</td>\n",
       "      <td>0.560</td>\n",
       "      <td>0.078</td>\n",
       "      <td>0.245</td>\n",
       "    </tr>\n",
       "    <tr>\n",
       "      <th>141</th>\n",
       "      <td>12001000500</td>\n",
       "      <td>0.199</td>\n",
       "      <td>0.094</td>\n",
       "      <td>0.557</td>\n",
       "    </tr>\n",
       "  </tbody>\n",
       "</table>\n",
       "</div>"
      ],
      "text/plain": [
       "           GEOID  f_black  f_hispanic   f_ba\n",
       "0    12001000200    0.184       0.130  0.279\n",
       "33   12001000301    0.429       0.069  0.450\n",
       "66   12001000302    0.223       0.241  0.315\n",
       "95   12001000400    0.560       0.078  0.245\n",
       "141  12001000500    0.199       0.094  0.557"
      ]
     },
     "execution_count": 12,
     "metadata": {},
     "output_type": "execute_result"
    }
   ],
   "source": [
    "geo_df.head()"
   ]
  },
  {
   "cell_type": "markdown",
   "metadata": {},
   "source": [
    "#### Note: there were negatives in the f_black column that were removed below"
   ]
  },
  {
   "cell_type": "code",
   "execution_count": 13,
   "metadata": {},
   "outputs": [],
   "source": [
    "geo_df = geo_df.loc[(geo_df.f_black>0)]\n",
    "geo_df = geo_df.loc[(geo_df.f_hispanic>0)]"
   ]
  },
  {
   "cell_type": "markdown",
   "metadata": {},
   "source": [
    "#### This gives us hispanic and black desities by geoid (location), the remaining percentage are simiply non-hispanic/black.  Plotting these comparisons show back and hispanic population is highly dense in specific locations.  Next step would be to compare these densities to access and speed."
   ]
  },
  {
   "cell_type": "code",
   "execution_count": 14,
   "metadata": {},
   "outputs": [
    {
     "data": {
      "text/html": [
       "<div>\n",
       "<style scoped>\n",
       "    .dataframe tbody tr th:only-of-type {\n",
       "        vertical-align: middle;\n",
       "    }\n",
       "\n",
       "    .dataframe tbody tr th {\n",
       "        vertical-align: top;\n",
       "    }\n",
       "\n",
       "    .dataframe thead th {\n",
       "        text-align: right;\n",
       "    }\n",
       "</style>\n",
       "<table border=\"1\" class=\"dataframe\">\n",
       "  <thead>\n",
       "    <tr style=\"text-align: right;\">\n",
       "      <th></th>\n",
       "      <th>GEOID</th>\n",
       "      <th>f_black</th>\n",
       "      <th>f_hispanic</th>\n",
       "      <th>f_ba</th>\n",
       "      <th>remaining</th>\n",
       "    </tr>\n",
       "  </thead>\n",
       "  <tbody>\n",
       "    <tr>\n",
       "      <th>0</th>\n",
       "      <td>12001000200</td>\n",
       "      <td>0.184</td>\n",
       "      <td>0.130</td>\n",
       "      <td>0.279</td>\n",
       "      <td>0.686</td>\n",
       "    </tr>\n",
       "    <tr>\n",
       "      <th>33</th>\n",
       "      <td>12001000301</td>\n",
       "      <td>0.429</td>\n",
       "      <td>0.069</td>\n",
       "      <td>0.450</td>\n",
       "      <td>0.502</td>\n",
       "    </tr>\n",
       "    <tr>\n",
       "      <th>66</th>\n",
       "      <td>12001000302</td>\n",
       "      <td>0.223</td>\n",
       "      <td>0.241</td>\n",
       "      <td>0.315</td>\n",
       "      <td>0.536</td>\n",
       "    </tr>\n",
       "    <tr>\n",
       "      <th>95</th>\n",
       "      <td>12001000400</td>\n",
       "      <td>0.560</td>\n",
       "      <td>0.078</td>\n",
       "      <td>0.245</td>\n",
       "      <td>0.362</td>\n",
       "    </tr>\n",
       "    <tr>\n",
       "      <th>141</th>\n",
       "      <td>12001000500</td>\n",
       "      <td>0.199</td>\n",
       "      <td>0.094</td>\n",
       "      <td>0.557</td>\n",
       "      <td>0.707</td>\n",
       "    </tr>\n",
       "    <tr>\n",
       "      <th>...</th>\n",
       "      <td>...</td>\n",
       "      <td>...</td>\n",
       "      <td>...</td>\n",
       "      <td>...</td>\n",
       "      <td>...</td>\n",
       "    </tr>\n",
       "    <tr>\n",
       "      <th>259010</th>\n",
       "      <td>12133970103</td>\n",
       "      <td>0.106</td>\n",
       "      <td>0.094</td>\n",
       "      <td>0.150</td>\n",
       "      <td>0.800</td>\n",
       "    </tr>\n",
       "    <tr>\n",
       "      <th>259039</th>\n",
       "      <td>12133970104</td>\n",
       "      <td>0.334</td>\n",
       "      <td>0.004</td>\n",
       "      <td>0.176</td>\n",
       "      <td>0.662</td>\n",
       "    </tr>\n",
       "    <tr>\n",
       "      <th>259105</th>\n",
       "      <td>12133970200</td>\n",
       "      <td>0.077</td>\n",
       "      <td>0.019</td>\n",
       "      <td>0.088</td>\n",
       "      <td>0.904</td>\n",
       "    </tr>\n",
       "    <tr>\n",
       "      <th>259222</th>\n",
       "      <td>12133970302</td>\n",
       "      <td>0.250</td>\n",
       "      <td>0.049</td>\n",
       "      <td>0.086</td>\n",
       "      <td>0.701</td>\n",
       "    </tr>\n",
       "    <tr>\n",
       "      <th>259321</th>\n",
       "      <td>12133970303</td>\n",
       "      <td>0.058</td>\n",
       "      <td>0.035</td>\n",
       "      <td>0.102</td>\n",
       "      <td>0.907</td>\n",
       "    </tr>\n",
       "  </tbody>\n",
       "</table>\n",
       "<p>3916 rows × 5 columns</p>\n",
       "</div>"
      ],
      "text/plain": [
       "              GEOID  f_black  f_hispanic   f_ba  remaining\n",
       "0       12001000200    0.184       0.130  0.279      0.686\n",
       "33      12001000301    0.429       0.069  0.450      0.502\n",
       "66      12001000302    0.223       0.241  0.315      0.536\n",
       "95      12001000400    0.560       0.078  0.245      0.362\n",
       "141     12001000500    0.199       0.094  0.557      0.707\n",
       "...             ...      ...         ...    ...        ...\n",
       "259010  12133970103    0.106       0.094  0.150      0.800\n",
       "259039  12133970104    0.334       0.004  0.176      0.662\n",
       "259105  12133970200    0.077       0.019  0.088      0.904\n",
       "259222  12133970302    0.250       0.049  0.086      0.701\n",
       "259321  12133970303    0.058       0.035  0.102      0.907\n",
       "\n",
       "[3916 rows x 5 columns]"
      ]
     },
     "execution_count": 14,
     "metadata": {},
     "output_type": "execute_result"
    }
   ],
   "source": [
    "geo_df['remaining'] = 1-(geo_df.f_black + geo_df.f_hispanic)\n",
    "geo_df"
   ]
  },
  {
   "cell_type": "code",
   "execution_count": 15,
   "metadata": {},
   "outputs": [
    {
     "data": {
      "image/png": "[encoded data removed]",
      "text/plain": [
       "<Figure size 432x288 with 1 Axes>"
      ]
     },
     "metadata": {
      "needs_background": "light"
     },
     "output_type": "display_data"
    }
   ],
   "source": [
    "# Use 'seaborn' to plot by race as available in the data\n",
    "\n",
    "# stop deprecated warnings\n",
    "import warnings\n",
    "from warnings import simplefilter\n",
    "simplefilter(action='ignore', category=FutureWarning)\n",
    "\n",
    "\n",
    "sns.distplot( geo_df.f_black, color='skyblue', label='black')\n",
    "sns.distplot( geo_df.f_hispanic, color='gold', label='hispanic')\n",
    "sns.distplot( geo_df.remaining, color = 'green', label='other')\n",
    "plt.legend()\n",
    "plt.show()"
   ]
  },
  {
   "cell_type": "code",
   "execution_count": null,
   "metadata": {},
   "outputs": [],
   "source": []
  }
 ],
 "metadata": {
  "kernelspec": {
   "display_name": "Python 3",
   "language": "python",
   "name": "python3"
  },
  "language_info": {
   "codemirror_mode": {
    "name": "ipython",
    "version": 3
   },
   "file_extension": ".py",
   "mimetype": "text/x-python",
   "name": "python",
   "nbconvert_exporter": "python",
   "pygments_lexer": "ipython3",
   "version": "3.8.5"
  }
 },
 "nbformat": 4,
 "nbformat_minor": 4
}
